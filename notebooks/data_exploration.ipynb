{
 "cells": [
  {
   "cell_type": "code",
   "execution_count": null,
   "id": "1a2b3c",
   "metadata": {},
   "outputs": [],
   "source": [
    "import pandas as pd\n",
    "import matplotlib.pyplot as plt\n",
    "from src.data_preprocessing import load_data\n",
    "from src.exploratory_analysis import plot_stock_prices, calculate_returns\n"
   ]
  },
  {
   "cell_type": "code",
   "execution_count": null,
   "metadata": {},
   "outputs": [],
   "source": [
    "# Load preprocessed data\n",
    "assets = ['data/preprocessed_tsla.csv', 'data/preprocessed_bnd.csv', 'data/preprocessed_spy.csv']\n",
    "dataframes = {asset: load_data(asset) for asset in assets}\n"
   ]
  },
  {
   "cell_type": "code",
   "execution_count": null,
   "metadata": {},
   "outputs": [],
   "source": [
    "\n",
    "# Plot stock prices\n",
    "for asset, df in dataframes.items():\n",
    "    plot_stock_prices(df, f'Stock Prices for {asset}')\n"
   ]
  },
  {
   "cell_type": "code",
   "execution_count": null,
   "metadata": {},
   "outputs": [],
   "source": [
    "\n",
    "# Calculate and display returns\n",
    "for asset, df in dataframes.items():\n",
    "    df = calculate_returns(df)\n",
    "    display(df.head())"
   ]
  }
 ],
 "metadata": {
  "language_info": {
   "name": "python"
  }
 },
 "nbformat": 4,
 "nbformat_minor": 2
}
